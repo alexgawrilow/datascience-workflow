{
 "cells": [
  {
   "cell_type": "code",
   "execution_count": null,
   "metadata": {},
   "outputs": [],
   "source": [
    "import numpy as np\n",
    "import matplotlib.pyplot as plt\n",
    "import pandas as pd\n",
    "import seaborn as sns\n",
    "import utility as ut\n",
    "\n",
    "from sklearn.compose import ColumnTransformer, make_column_selector, make_column_transformer\n",
    "from sklearn.pipeline import Pipeline\n",
    "from sklearn.impute import SimpleImputer, KNNImputer\n",
    "from sklearn.preprocessing import StandardScaler, OneHotEncoder\n",
    "from sklearn.linear_model import LogisticRegression\n",
    "from sklearn.model_selection import GridSearchCV, train_test_split"
   ]
  },
  {
   "cell_type": "markdown",
   "metadata": {},
   "source": [
    "## Read data\n",
    "- randomly split data into training, validation and test set"
   ]
  },
  {
   "cell_type": "code",
   "execution_count": null,
   "metadata": {},
   "outputs": [],
   "source": [
    "df = pd.read_csv(\"data.csv\")\n",
    "X = df.drop(\"\", axis=1)\n",
    "y = df[\"\"]\n",
    "X_train, X_test, y_train, y_test = train_test_split(X, y, train_size=0.8)"
   ]
  },
  {
   "cell_type": "markdown",
   "metadata": {},
   "source": [
    "## Data cleaning\n",
    "- correct or drop obvious outliers\n",
    "- impute categorical data: use most common value (maybe on some relevant subset)\n",
    "- impute numerical data: use mean or median value (maybe on some relevant subset)"
   ]
  },
  {
   "cell_type": "code",
   "execution_count": null,
   "metadata": {},
   "outputs": [],
   "source": [
    "features_to_drop = []\n",
    "features_dropper = ut.DropColumns(features_to_drop)\n",
    "\n",
    "cleaning_pipeline = Pipeline([\n",
    "    (\"drop unneccesary features\", features_dropper)\n",
    "])"
   ]
  },
  {
   "cell_type": "markdown",
   "metadata": {},
   "source": [
    "## Data Preprocessing\n",
    "- do we need to log-scale skewed numerical features?\n",
    "- do we need to scale numerical features?\n",
    "- do we need to onehot encode categorical features?"
   ]
  },
  {
   "cell_type": "code",
   "execution_count": null,
   "metadata": {},
   "outputs": [],
   "source": [
    "skewed_numerical_features = []\n",
    "log_transformer = ut.ApplyFunction(skewed_numerical_features, np.log1p)\n",
    "\n",
    "numerical_features = make_column_selector(dtype_include=np.number)\n",
    "numerical_transformer = Pipeline([\n",
    "    (\"simple impute\", KNNImputer()),\n",
    "    (\"standard scale\", StandardScaler())\n",
    "])\n",
    "\n",
    "categorical_features = make_column_selector(dtype_include=object)\n",
    "categorical_transformer = Pipeline([\n",
    "    (\"one-hot encode\", OneHotEncoder(handle_unknown=\"ignore\", sparse=False)),\n",
    "    (\"simple impute\", SimpleImputer(strategy=\"most_frequent\")), \n",
    "])\n",
    "column_transformer = make_column_transformer(\n",
    "    (numerical_transformer, numerical_features),\n",
    "    (categorical_transformer, categorical_features),\n",
    ")\n",
    "\n",
    "preprocessing_pipeline = Pipeline([\n",
    "    (\"log-scale skewed numerical features\", log_transformer),\n",
    "    (\"transform columns\", column_transformer)\n",
    "])"
   ]
  },
  {
   "cell_type": "markdown",
   "metadata": {},
   "source": [
    "## Model selection\n",
    "- make sure to understand the metric you use based on which you select the model\n",
    "- start with an easy and fast to train model and look how it performs\n",
    "- if necessary use more advanced models"
   ]
  },
  {
   "cell_type": "code",
   "execution_count": null,
   "metadata": {},
   "outputs": [],
   "source": [
    "model = \n",
    "grid={}\n",
    "model_cv = GridSearchCV(\n",
    "    model,\n",
    "    grid,\n",
    "    cv=10,\n",
    ")\n",
    "model_pipeline = Pipeline([\n",
    "    (\"data cleaning\", cleaning_pipeline),\n",
    "    (\"data preprocessing\", preprocessing_pipeline),\n",
    "    (\"model\", model_cv),\n",
    "])"
   ]
  },
  {
   "cell_type": "markdown",
   "metadata": {},
   "source": [
    "## Model prediction and validation\n",
    "- train on whole training data set (train + validation set)\n",
    "- test on test data set"
   ]
  },
  {
   "cell_type": "code",
   "execution_count": null,
   "metadata": {
    "scrolled": false
   },
   "outputs": [],
   "source": [
    "model_pipeline.fit(X_train, y_train)\n",
    "score = model_pipeline.score(X_train, y_train)"
   ]
  }
 ],
 "metadata": {
  "kernelspec": {
   "display_name": "titanic",
   "language": "python",
   "name": "titanic"
  },
  "language_info": {
   "codemirror_mode": {
    "name": "ipython",
    "version": 3
   },
   "file_extension": ".py",
   "mimetype": "text/x-python",
   "name": "python",
   "nbconvert_exporter": "python",
   "pygments_lexer": "ipython3",
   "version": "3.8.5"
  }
 },
 "nbformat": 4,
 "nbformat_minor": 4
}
