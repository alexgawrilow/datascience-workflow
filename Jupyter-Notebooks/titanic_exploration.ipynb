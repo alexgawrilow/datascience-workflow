{
 "cells": [
  {
   "cell_type": "code",
   "execution_count": null,
   "metadata": {},
   "outputs": [],
   "source": [
    "from collections import Counter\n",
    "from pprint import pprint\n",
    "\n",
    "import numpy as np\n",
    "import matplotlib.pyplot as plt\n",
    "import pandas as pd\n",
    "import seaborn as sns\n",
    "import utility as ut"
   ]
  },
  {
   "cell_type": "markdown",
   "metadata": {},
   "source": [
    "## Read data"
   ]
  },
  {
   "cell_type": "code",
   "execution_count": null,
   "metadata": {},
   "outputs": [],
   "source": [
    "df = pd.read_csv(\"../data/train.csv\", index_col=\"PassengerId\")"
   ]
  },
  {
   "cell_type": "markdown",
   "metadata": {},
   "source": [
    "## Data exploration\n",
    "\n",
    "### General\n",
    "- how many records has the data set (rows)?\n",
    "- how many features has the data set (columns)?\n",
    "- do you know the meaning of each feature?\n",
    "- what are the types of the features (categorical / numerical / ordered), are they as expected?\n",
    "- do we have missing values?\n",
    "- have a look at the first rows of the data set\n",
    "\n",
    "### Univariate\n",
    "- for numerical features: show histogram and summary statistics\n",
    "- for categorical data: show value count or bar diagram of the occurences of each category\n",
    "\n",
    "### Bivariate\n",
    "- show scatter plot and correlation between features\n",
    "- especially consider the relationship between each features and the target variable"
   ]
  },
  {
   "cell_type": "code",
   "execution_count": null,
   "metadata": {},
   "outputs": [],
   "source": [
    "df.shape"
   ]
  },
  {
   "cell_type": "markdown",
   "metadata": {},
   "source": [
    "- the data set has 891 records (rows) and 11 features (columns) including the target variable (`Survived`)"
   ]
  },
  {
   "cell_type": "code",
   "execution_count": null,
   "metadata": {},
   "outputs": [],
   "source": [
    "df.info()"
   ]
  },
  {
   "cell_type": "markdown",
   "metadata": {},
   "source": [
    "- the data set has 6 numerical and 5 object features\n",
    "- the data type of each column matches the expectation\n",
    "- we have missing values in the following columns\n",
    "    - `Age`\n",
    "    - `Cabin` (over 75% of the data missing)\n",
    "    - `Embarked` (only 2 values missing)"
   ]
  },
  {
   "cell_type": "code",
   "execution_count": null,
   "metadata": {},
   "outputs": [],
   "source": [
    "df.head(10)"
   ]
  },
  {
   "cell_type": "code",
   "execution_count": null,
   "metadata": {},
   "outputs": [],
   "source": [
    "df.describe()"
   ]
  },
  {
   "cell_type": "code",
   "execution_count": null,
   "metadata": {
    "scrolled": false
   },
   "outputs": [],
   "source": [
    "numerical = df.select_dtypes(include=[np.number])\n",
    "for col in numerical:\n",
    "    df[col].hist(figsize=(20, 10), legend=True, align=\"mid\")\n",
    "    plt.show()"
   ]
  },
  {
   "cell_type": "markdown",
   "metadata": {},
   "source": [
    "- only 38% survived, so the estimator P(x) = 0 will give 62% accuracy\n",
    "- we have 3 ticket classes with relations 2 : 2 : 5\n",
    "- age distribution is centered around 30 and is skewed towards right\n",
    "- number of siblings and spouses is mostly 0 (600 times), followed by 1 (200 times) and the other are exceptions \n",
    "- number of parents and children is also mostly 0 (660 times), followed by 1 (120 times), then 2 (80 times) and the others are exceptions\n",
    "- fare is centered around 14 with most values below 100"
   ]
  },
  {
   "cell_type": "code",
   "execution_count": null,
   "metadata": {
    "scrolled": false
   },
   "outputs": [],
   "source": [
    "categorical = df.select_dtypes(include=\"object\")\n",
    "for col in categorical:\n",
    "    print(col)\n",
    "    pprint(Counter(df[col]))\n",
    "    # print(df[col].value_counts())"
   ]
  },
  {
   "cell_type": "markdown",
   "metadata": {},
   "source": [
    "- from the names we could extract some further information, otherwise drop this column\n",
    "- we have 577 male and 314 female passengers\n",
    "- from the ticket we could extract some further information, otherwise drop this column\n",
    "- from the cabin we could extract some further information, otherwise drop this column\n",
    "- 644 embarked in Southampton, 168 in Cherbourg and 77 in Queenstown"
   ]
  },
  {
   "cell_type": "code",
   "execution_count": null,
   "metadata": {},
   "outputs": [],
   "source": [
    "categories = [\"Embarked\", \"Sex\", \"Pclass\"]\n",
    "for col in categories:\n",
    "    sns.catplot(data=df, kind=\"count\", x=\"Survived\", col=col)\n",
    "    plt.show()"
   ]
  }
 ],
 "metadata": {
  "kernelspec": {
   "display_name": "titanic",
   "language": "python",
   "name": "titanic"
  },
  "language_info": {
   "codemirror_mode": {
    "name": "ipython",
    "version": 3
   },
   "file_extension": ".py",
   "mimetype": "text/x-python",
   "name": "python",
   "nbconvert_exporter": "python",
   "pygments_lexer": "ipython3",
   "version": "3.8.5"
  }
 },
 "nbformat": 4,
 "nbformat_minor": 4
}
